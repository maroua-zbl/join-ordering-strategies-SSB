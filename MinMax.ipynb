{
 "cells": [
  {
   "cell_type": "code",
   "execution_count": 1,
   "metadata": {},
   "outputs": [],
   "source": [
    "from pylab import *\n",
    "import matplotlib.pyplot as plt\n",
    "import random\n",
    "import numpy as np\n",
    "from queryParser import *\n",
    "import psycopg2\n",
    "import time\n",
    "\n",
    "# q1-1=\"SELECT SUM(l.lo_extendedprice * l.lo_discount) AS revenue FROM lineorder l , date d WHERE l.lo_orderdate = d.d_datekey AND d.d_year = 1993 AND l.lo_discount BETWEEN 1 AND 3 AND l.lo_quantity < 25;\"\n",
    "dimentions={\"date\":0,\"supplier\":0,\"customer\":0,\"part\":0}\n",
    "sortedDimentions={}\n",
    "FACT=\"lineorder\"\n",
    "def MinMax(input,cursor):\n",
    "    state=[]\n",
    "    solution={}\n",
    "    joinedTables ,parsed_query,alias=queryParser(input)\n",
    "    for t in dimentions:\n",
    "        query=\"select count(*) from \"+t\n",
    "        print(\"query\",query)\n",
    "        cursor.execute(query)\n",
    "        dimentions[t]=cursor.fetchall()[0][0]\n",
    "    sortedDimentions={k: v for k, v in sorted(dimentions.items(), key=lambda item: item[1])}\n",
    "    print(\"r\",sortedDimentions)\n",
    "    state=list(sortedDimentions.keys())\n",
    "    state.insert(1,FACT)\n",
    "    print(state)\n",
    "    solution[\"query\"]=listToQuery(state,get_indice(state),parsed_query)\n",
    "    solution[\"runTime\"]=get_runTime(solution[\"query\"],cursor)\n",
    "    solution[\"estimatedCost\"]=get_cost(solution[\"query\"],cursor)\n",
    "    time.sleep(5)\n",
    "    solution[\"energy\"]=get_energy(solution[\"query\"],cursor)\n",
    "    return solution\n",
    "            \n",
    "    \n",
    "    \n",
    "    \n",
    "\n",
    "\n",
    "\n",
    "   \n"
   ]
  },
  {
   "cell_type": "code",
   "execution_count": 2,
   "metadata": {},
   "outputs": [
    {
     "name": "stdout",
     "output_type": "stream",
     "text": [
      "query select count(*) from date\n",
      "query select count(*) from supplier\n",
      "query select count(*) from customer\n",
      "query select count(*) from part\n",
      "r {'date': 2550, 'supplier': 59970, 'customer': 899965, 'part': 999999}\n",
      "['date', 'lineorder', 'supplier', 'customer', 'part']\n",
      "initiale power 42.43248\n",
      "{'query': \"SELECT d.d_year, s.s_city, p.p_brand1, SUM(l.lo_revenue - l.lo_supplycost) AS profit FROM date AS d JOIN lineorder AS l ON l.lo_orderdate = d.d_datekey JOIN supplier AS s ON l.lo_suppkey = s.s_suppkey JOIN customer AS c ON l.lo_custkey = c.c_custkey JOIN part AS p ON l.lo_partkey = p.p_partkey WHERE s.s_nation = 'UNITED STATES' AND (d.d_year = 1997 OR d.d_year = 1998) AND p.p_category = 'MFGR#14' GROUP BY d.d_year, s.s_city, p.p_brand1 ORDER BY d.d_year,s.s_city,p.p_brand1\", 'runTime': 39663.411, 'estimatedCost': 3730378.1, 'energy': 948688.6369261753}\n"
     ]
    }
   ],
   "source": [
    "conn,cursor = connect_bdd(\"ssb\")\n",
    "input=\"SELECT d.d_year,s.s_city,p.p_brand1,SUM(l.lo_revenue - l.lo_supplycost) AS profit  FROM date d,customer c,supplier s,part p,lineorder l WHERE l.lo_custkey = c.c_custkey AND l.lo_suppkey = s.s_suppkey  AND l.lo_partkey = p.p_partkey AND l.lo_orderdate = d.d_datekey AND AND c.c_region = 'AMERICA' AND s.s_nation = 'UNITED STATES' AND (d.d_year = 1997 OR d.d_year = 1998)  AND p.p_category = 'MFGR#14' GROUP BY  d.d_year, s.s_city, p.p_brand1 ORDER BY d.d_year,s.s_city,p.p_brand1;\"\n",
    "\n",
    "solution = MinMax(input,cursor)\n",
    "\n",
    "print(solution)\n"
   ]
  },
  {
   "cell_type": "code",
   "execution_count": 3,
   "metadata": {},
   "outputs": [
    {
     "name": "stdout",
     "output_type": "stream",
     "text": [
      "initiale power 41.527805\n",
      "800980.832426462\n"
     ]
    }
   ],
   "source": [
    "energy=get_energy(input,cursor)\n",
    "print(energy)"
   ]
  }
 ],
 "metadata": {
  "kernelspec": {
   "display_name": "Python 3",
   "language": "python",
   "name": "python3"
  },
  "language_info": {
   "codemirror_mode": {
    "name": "ipython",
    "version": 3
   },
   "file_extension": ".py",
   "mimetype": "text/x-python",
   "name": "python",
   "nbconvert_exporter": "python",
   "pygments_lexer": "ipython3",
   "version": "3.8.3"
  }
 },
 "nbformat": 4,
 "nbformat_minor": 5
}
