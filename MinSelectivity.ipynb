{
 "cells": [
  {
   "cell_type": "code",
   "execution_count": 1,
   "metadata": {},
   "outputs": [],
   "source": [
    "from pylab import *\n",
    "import matplotlib.pyplot as plt\n",
    "import random\n",
    "import numpy as np\n",
    "from queryParser import *\n",
    "import psycopg2\n",
    "import time\n",
    "\n",
    "# input=\"SELECT SUM(l.lo_extendedprice * l.lo_discount) AS revenue FROM lineorder l , date d WHERE l.lo_orderdate = d.d_datekey AND d.d_year = 1993 AND l.lo_discount BETWEEN 1 AND 3 AND l.lo_quantity < 25;\"\n",
    "dimentions={\"date\":0,\"supplier\":0,\"customer\":0,\"part\":0}\n",
    "tablesWithSel={}\n",
    "sortedTables=[]\n",
    "FACT=\"lineorder\"\n",
    "def MinSelectivity(input,cursor):\n",
    "    \n",
    "    state=[]\n",
    "    solution={}\n",
    "    joinedTables ,parsed_query , alias=queryParser(input)\n",
    "    joinedTables.remove(FACT)\n",
    "    tables=get_tableWithSelectivity(parsed_query)\n",
    "    \n",
    "    #calculer cardinalités des dimentions\n",
    "    for t in dimentions:\n",
    "        query=\"select count(*) from \"+t\n",
    "        print(\"query\",query)\n",
    "        cursor.execute(query)\n",
    "        dimentions[t]=cursor.fetchall()[0][0]\n",
    "    \n",
    "    # calculer selectivités des dimentions\n",
    "    for key in tables.keys():\n",
    "        json={'select': {'value': {'count': '*'}},'from':{'value':alias[key],'name':key}}\n",
    "        if len(tables[key])==1:\n",
    "            json['where']=tables[key][0]\n",
    "        else:\n",
    "            json['where']={'and':tables[key]}\n",
    "        query=format(json)\n",
    "        cursor.execute(query)\n",
    "        tablesWithSel[alias[key]]=cursor.fetchall()[0][0]\n",
    "        \n",
    "    # ajouter les tables sans selectivité\n",
    "    if(len(joinedTables)>len(tablesWithSel)):\n",
    "        for t in joinedTables:\n",
    "            if t not in tablesWithSel:\n",
    "                tablesWithSel[t]=dimentions[t]\n",
    "  \n",
    "    sortedTables={k: v for k, v in sorted(tablesWithSel.items(), key=lambda item: item[1])}\n",
    "    state=list(sortedTables.keys())\n",
    "    state.insert(1,FACT)\n",
    "    print(state)\n",
    "    \n",
    "    solution[\"query\"]=listToQuery(state,get_indice(state),parsed_query)\n",
    "    #solution[\"runTime\"]=get_runTime(solution[\"query\"],cursor)\n",
    "    solution[\"estimatedCost\"]=get_cost(solution[\"query\"],cursor)\n",
    "    #time.sleep(5)\n",
    "    #solution[\"energy\"]=get_energy(solution[\"query\"],cursor)\n",
    "    return solution\n",
    "\n"
   ]
  },
  {
   "cell_type": "code",
   "execution_count": 2,
   "metadata": {},
   "outputs": [
    {
     "name": "stdout",
     "output_type": "stream",
     "text": [
      "query select count(*) from date\n",
      "query select count(*) from supplier\n",
      "query select count(*) from customer\n",
      "query select count(*) from part\n",
      "['date', 'lineorder', 'supplier', 'part', 'customer']\n",
      "{'query': \"SELECT d.d_year, s.s_city, p.p_brand1, SUM(l.lo_revenue - l.lo_supplycost) AS profit FROM date AS d JOIN lineorder AS l ON l.lo_orderdate = d.d_datekey JOIN supplier AS s ON l.lo_suppkey = s.s_suppkey JOIN part AS p ON l.lo_partkey = p.p_partkey JOIN customer AS c ON l.lo_custkey = c.c_custkey WHERE c.c_region = 'AMERICA' AND s.s_nation = 'UNITED STATES' AND (d.d_year = 1997 OR d.d_year = 1998) AND p.p_category = 'MFGR#14' GROUP BY d.d_year, s.s_city, p.p_brand1 ORDER BY d.d_year,s.s_city,p.p_brand1\", 'estimatedCost': 3698548.23}\n"
     ]
    }
   ],
   "source": [
    "conn,cursor = connect_bdd(\"ssb\")\n",
    "input=\"SELECT d.d_year,s.s_city,p.p_brand1,SUM(l.lo_revenue - l.lo_supplycost) AS profit  FROM date d,customer c,supplier s,part p,lineorder l WHERE l.lo_custkey = c.c_custkey AND l.lo_suppkey = s.s_suppkey  AND l.lo_partkey = p.p_partkey AND l.lo_orderdate = d.d_datekey AND  c.c_region = 'AMERICA' AND s.s_nation = 'UNITED STATES' AND (d.d_year = 1997 OR d.d_year = 1998)  AND p.p_category = 'MFGR#14' GROUP BY  d.d_year, s.s_city, p.p_brand1 ORDER BY d.d_year,s.s_city,p.p_brand1;\"\n",
    "#input=\"SELECT c_city,s_city,d_year,SUM(lo_revenue) AS revenue FROM customer c,lineorder l,supplier s,date d WHERE  l.lo_custkey = c.c_custkey AND l.lo_suppkey = s.s_suppkey AND l.lo_orderdate = d.d_datekey AND (c.c_city='UNITED KI1' OR c.c_city='UNITED KI5') AND (s.s_city='UNITED KI1' OR s.s_city='UNITED KI5') AND d.d_yearmonth = 'Dec1997'  GROUP BY  c.c_city, s.s_city, d.d_year ORDER BY  d.d_year ASC,  revenue DESC;\"\n",
    "solution = MinSelectivity(input,cursor)\n",
    "print(solution)\n"
   ]
  },
  {
   "cell_type": "code",
   "execution_count": null,
   "metadata": {},
   "outputs": [],
   "source": [
    "SELECT   c_nation,s_nation,d_year,SUM(lo_revenue) AS revenue FROM \n",
    "  customer c,\n",
    "  lineorder l,\n",
    "  supplier s,\n",
    "  date d\n",
    "WHERE \n",
    "  l.lo_custkey = c.c_custkey\n",
    "  AND l.lo_suppkey = s.s_suppkey\n",
    "  AND l.lo_orderdate = d.d_datekey\n",
    "  AND c.c_region = 'ASIA'\n",
    "  AND s.s_region = 'ASIA'\n",
    "  AND d.d_year >= 1992\n",
    "  AND d.d_year <= 1997\n",
    "GROUP BY \n",
    "  c_nation,\n",
    "  s_nation,\n",
    "  d_year\n",
    "ORDER BY \n",
    "  d_year ASC, \n",
    "  revenue DESC;"
   ]
  }
 ],
 "metadata": {
  "kernelspec": {
   "display_name": "Python 3",
   "language": "python",
   "name": "python3"
  },
  "language_info": {
   "codemirror_mode": {
    "name": "ipython",
    "version": 3
   },
   "file_extension": ".py",
   "mimetype": "text/x-python",
   "name": "python",
   "nbconvert_exporter": "python",
   "pygments_lexer": "ipython3",
   "version": "3.8.3"
  }
 },
 "nbformat": 4,
 "nbformat_minor": 5
}
