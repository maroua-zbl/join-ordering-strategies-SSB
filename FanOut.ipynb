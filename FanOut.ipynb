{
 "cells": [
  {
   "cell_type": "code",
   "execution_count": 1,
   "metadata": {},
   "outputs": [],
   "source": [
    "from pylab import *\n",
    "import matplotlib.pyplot as plt\n",
    "import random\n",
    "import numpy as np\n",
    "from queryParser import *\n",
    "import psycopg2\n",
    "import time\n",
    "\n",
    "# input=\"SELECT SUM(l.lo_extendedprice * l.lo_discount) AS revenue FROM lineorder l , date d WHERE l.lo_orderdate = d.d_datekey AND d.d_year = 1993 AND l.lo_discount BETWEEN 1 AND 3 AND l.lo_quantity < 25;\"\n",
    "\n",
    "\n",
    "tablesWithSel={}\n",
    "sortedTables=[]\n",
    "FACT=\"lineorder\"\n",
    "def FanOut(input,cursor):\n",
    "    state=[]\n",
    "    solution={}\n",
    "    query=\"select count(*) from \"+FACT\n",
    "    print(\"query\",query)\n",
    "    cursor.execute(query)\n",
    "    factCar=cursor.fetchall()[0][0]\n",
    "    # calculer les cardinalités des tables\n",
    "    joinedTables ,parsed_query , alias=queryParser(input)\n",
    "    print(alias)\n",
    "    joinedTables.remove(FACT)\n",
    "    print(joinedTables)\n",
    "    tables=get_tableWithSelectivity(parsed_query)\n",
    "    print(tables)\n",
    "    \n",
    "    for key in tables.keys():\n",
    "        json={'select': {'value': {'count': '*'}},'from':  [{'value': 'lineorder', 'name': 'l'},{'left join': {'name':key,'value':alias[key]}, 'on': {'eq': get_joinedClause(alias[key])}}]}\n",
    "        if len(tables[key])==1:\n",
    "            json['where']=tables[key][0]\n",
    "        else:\n",
    "            json['where']={'and':tables[key]}\n",
    "        query=format(json)\n",
    "        print(\"query\",query)\n",
    "        cursor.execute(query)\n",
    "        tablesWithSel[alias[key]]=cursor.fetchall()[0][0]/factCar\n",
    "    print(\"tablewithsel\",tablesWithSel)\n",
    "    if(len(joinedTables)>len(tablesWithSel)):\n",
    "        for t in joinedTables:\n",
    "            if t not in tablesWithSel:\n",
    "                query=\"select count(*) from lineorder l left join \"+t+\" as \"+get_key(t,alias)+\" on \"+get_joinedClause(t)[0]+\" = \"+get_joinedClause(t)[1]\n",
    "                print(\"query\",query)\n",
    "                cursor.execute(query)\n",
    "                tablesWithSel[t]=cursor.fetchall()[0][0]/factCar\n",
    "                \n",
    "    \n",
    "    sortedTables={k: v for k, v in sorted(tablesWithSel.items(), key=lambda item: item[1])}\n",
    "    state=list(sortedTables.keys())\n",
    "    state.insert(1,FACT)\n",
    "    print(state)\n",
    "    solution[\"query\"]=listToQuery(state,get_indice(state),parsed_query)\n",
    "    #solution[\"runTime\"]=get_runTime(solution[\"query\"],cursor)\n",
    "    solution[\"estimatedCost\"]=get_cost(solution[\"query\"],cursor)\n",
    "    #time.sleep(5)\n",
    "    #solution[\"energy\"]=get_energy(solution[\"query\"],cursor)\n",
    "    return solution\n",
    "\n"
   ]
  },
  {
   "cell_type": "code",
   "execution_count": 2,
   "metadata": {},
   "outputs": [
    {
     "name": "stdout",
     "output_type": "stream",
     "text": [
      "query select count(*) from lineorder\n",
      "{'d': 'date', 'c': 'customer', 's': 'supplier', 'p': 'part', 'l': 'lineorder'}\n",
      "['date', 'customer', 'supplier', 'part']\n",
      "{'c': [{'eq': ['c.c_region', {'literal': 'AMERICA'}]}], 's': [{'eq': ['s.s_nation', {'literal': 'UNITED STATES'}]}], 'd': [{'or': [{'eq': ['d.d_year', 1997]}, {'eq': ['d.d_year', 1998]}]}], 'p': [{'eq': ['p.p_category', {'literal': 'MFGR#14'}]}]}\n",
      "query SELECT COUNT(*) FROM lineorder AS l LEFT JOIN customer AS c ON l.lo_custkey = c.c_custkey WHERE c.c_region = 'AMERICA'\n",
      "query SELECT COUNT(*) FROM lineorder AS l LEFT JOIN supplier AS s ON l.lo_suppkey = s.s_suppkey WHERE s.s_nation = 'UNITED STATES'\n",
      "query SELECT COUNT(*) FROM lineorder AS l LEFT JOIN date AS d ON l.lo_orderdate = d.d_datekey WHERE d.d_year = 1997 OR d.d_year = 1998\n",
      "query SELECT COUNT(*) FROM lineorder AS l LEFT JOIN part AS p ON l.lo_partkey = p.p_partkey WHERE p.p_category = 'MFGR#14'\n",
      "tablewithsel {'customer': 0.19913371048169495, 'supplier': 0.04022882770501556, 'date': 0.2406694936386242, 'part': 0.039870535798512616}\n",
      "['part', 'lineorder', 'supplier', 'customer', 'date']\n",
      "{'query': \"SELECT d.d_year, s.s_city, p.p_brand1, SUM(l.lo_revenue - l.lo_supplycost) AS profit FROM part AS p JOIN lineorder AS l ON l.lo_partkey = p.p_partkey JOIN supplier AS s ON l.lo_suppkey = s.s_suppkey JOIN customer AS c ON l.lo_custkey = c.c_custkey JOIN date AS d ON l.lo_orderdate = d.d_datekey WHERE c.c_region = 'AMERICA' AND s.s_nation = 'UNITED STATES' AND (d.d_year = 1997 OR d.d_year = 1998) AND p.p_category = 'MFGR#14' GROUP BY d.d_year, s.s_city, p.p_brand1 ORDER BY d.d_year,s.s_city,p.p_brand1\", 'estimatedCost': 3442718.39}\n"
     ]
    }
   ],
   "source": [
    "conn,cursor = connect_bdd(\"ssb\")\n",
    "input=\"SELECT d.d_year,s.s_city,p.p_brand1,SUM(l.lo_revenue - l.lo_supplycost) AS profit  FROM date d,customer c,supplier s,part p,lineorder l WHERE l.lo_custkey = c.c_custkey AND l.lo_suppkey = s.s_suppkey  AND l.lo_partkey = p.p_partkey AND l.lo_orderdate = d.d_datekey  AND c.c_region = 'AMERICA' AND s.s_nation = 'UNITED STATES' AND (d.d_year = 1997 OR d.d_year = 1998)  AND p.p_category = 'MFGR#14'  GROUP BY  d.d_year, s.s_city, p.p_brand1 ORDER BY d.d_year,s.s_city,p.p_brand1 ;\"\n",
    "#input=\"SELECT c_city,s_city,d_year,SUM(lo_revenue) AS revenue FROM customer c,lineorder l,supplier s,date d WHERE  l.lo_custkey = c.c_custkey AND l.lo_suppkey = s.s_suppkey AND l.lo_orderdate = d.d_datekey AND (c.c_city='UNITED KI1' OR c.c_city='UNITED KI5') AND (s.s_city='UNITED KI1' OR s.s_city='UNITED KI5') AND d.d_yearmonth = 'Dec1997'  GROUP BY  c.c_city, s.s_city, d.d_year ORDER BY  d.d_year ASC,  revenue DESC;\"\n",
    "solution = FanOut(input,cursor)\n",
    "print(solution)\n"
   ]
  },
  {
   "cell_type": "code",
   "execution_count": 8,
   "metadata": {},
   "outputs": [
    {
     "name": "stdout",
     "output_type": "stream",
     "text": [
      "3442532.71\n"
     ]
    }
   ],
   "source": [
    "conn,cursor = connect_bdd(\"ssb\")\n",
    "input=\"SELECT d.d_year,s.s_city,p.p_brand1,SUM(l.lo_revenue - l.lo_supplycost) AS profit  FROM date d,customer c,supplier s,part p,lineorder l WHERE l.lo_custkey = c.c_custkey AND l.lo_suppkey = s.s_suppkey  AND l.lo_partkey = p.p_partkey AND l.lo_orderdate = d.d_datekey  AND c.c_region = 'AMERICA' AND s.s_nation = 'UNITED STATES' AND (d.d_year = 1997 OR d.d_year = 1998)  AND p.p_category = 'MFGR#14'  GROUP BY  d.d_year, s.s_city, p.p_brand1 ORDER BY d.d_year,s.s_city,p.p_brand1 ;\"\n",
    "#input=\"SELECT c_city,s_city,d_year,SUM(lo_revenue) AS revenue FROM customer c,lineorder l,supplier s,date d WHERE  l.lo_custkey = c.c_custkey AND l.lo_suppkey = s.s_suppkey AND l.lo_orderdate = d.d_datekey AND (c.c_city='UNITED KI1' OR c.c_city='UNITED KI5') AND (s.s_city='UNITED KI1' OR s.s_city='UNITED KI5') AND d.d_yearmonth = 'Dec1997'  GROUP BY  c.c_city, s.s_city, d.d_year ORDER BY  d.d_year ASC,  revenue DESC;\"\n",
    "solution = get_cost(input,cursor)\n",
    "print(solution)"
   ]
  },
  {
   "cell_type": "code",
   "execution_count": 10,
   "metadata": {},
   "outputs": [
    {
     "data": {
      "text/plain": [
       "{}"
      ]
     },
     "execution_count": 10,
     "metadata": {},
     "output_type": "execute_result"
    }
   ],
   "source": [
    "t={\"a\":0}\n",
    "del(t[\"a\"])\n",
    "t"
   ]
  },
  {
   "cell_type": "code",
   "execution_count": null,
   "metadata": {},
   "outputs": [],
   "source": []
  }
 ],
 "metadata": {
  "kernelspec": {
   "display_name": "Python 3",
   "language": "python",
   "name": "python3"
  },
  "language_info": {
   "codemirror_mode": {
    "name": "ipython",
    "version": 3
   },
   "file_extension": ".py",
   "mimetype": "text/x-python",
   "name": "python",
   "nbconvert_exporter": "python",
   "pygments_lexer": "ipython3",
   "version": "3.8.3"
  }
 },
 "nbformat": 4,
 "nbformat_minor": 5
}
